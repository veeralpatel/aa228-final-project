{
 "cells": [
  {
   "cell_type": "code",
   "execution_count": 247,
   "metadata": {},
   "outputs": [],
   "source": [
    "import pandas as pd\n",
    "\n",
    "airports = pd.read_csv('data/airports.csv')"
   ]
  },
  {
   "cell_type": "code",
   "execution_count": 248,
   "metadata": {},
   "outputs": [],
   "source": [
    "airportLocations = {}\n",
    "for index, row in airports.iterrows():\n",
    "    airportLocations[row[\"IATA_CODE\"]] = (row[\"LATITUDE\"], row[\"LONGITUDE\"])"
   ]
  },
  {
   "cell_type": "code",
   "execution_count": 340,
   "metadata": {},
   "outputs": [
    {
     "name": "stdout",
     "output_type": "stream",
     "text": [
      "Value at start state is  -525.999366647\n",
      "\n",
      "\n",
      "s:  ('ORD', datetime.datetime(2015, 1, 11, 8, 30), 0) -525.999366647\n",
      "a:  ('NK731', datetime.datetime(2015, 1, 11, 12, 30), 'LAX', datetime.datetime(2015, 1, 11, 13, 55), 262.0)\n",
      "\n",
      "\n",
      "s:  ('LAX', datetime.datetime(2015, 1, 11, 13, 55), 1) 0\n",
      "\n",
      "airports we visit:  ['ORD', 'LAX']\n",
      "flights to take:  [('NK731', 262.0)]\n",
      "hours it takes:  1.41666666667\n"
     ]
    }
   ],
   "source": [
    "import cPickle\n",
    "import datetime\n",
    "import matplotlib.pyplot as plt\n",
    "import mplleaflet\n",
    "\n",
    "origin = 'ORD'\n",
    "destination = 'LAX'\n",
    "direct = True\n",
    "\n",
    "if direct:\n",
    "    policyFile = 'Results/Winter/Direct/' + origin + 'to' + destination + '_direct_policy.pkl'\n",
    "    valueFile = 'Results/Winter/Direct/' + origin + 'to' + destination + '_direct_value.pkl'\n",
    "else:\n",
    "    policyFile = 'Results/Winter/Connected/' + origin + 'to' + destination + '_policy.pkl'\n",
    "    valueFile = 'Results/Winter/Connected/' + origin + 'to' + destination + '_value.pkl'\n",
    "\n",
    "optimal_policy = {}\n",
    "with open(policyFile, \"rb\") as input_file:\n",
    "    optimal_policy = cPickle.load(input_file)\n",
    "\n",
    "value_function = {}\n",
    "with open(valueFile, \"rb\") as input_file:\n",
    "    value_function = cPickle.load(input_file)\n",
    "\n",
    "state = (origin, datetime.datetime(2015, 1, 11, 8, 30), 0)\n",
    "print 'Value at start state is ', value_function[state]\n",
    "path = [(state, None)]\n",
    "actions = []\n",
    "\n",
    "startTime = optimal_policy[state][1]\n",
    "\n",
    "while True:\n",
    "    print '\\n'\n",
    "    print 's: ', state, value_function[state]\n",
    "    if state[0] == destination:\n",
    "        finalTime = state[1]\n",
    "        break\n",
    "    else:\n",
    "        action = optimal_policy[state]\n",
    "        print 'a: ', action\n",
    "        actions.append(action[1])\n",
    "        state = (action[2],action[3],state[2]+1)\n",
    "        path.append((state,action,state[2]+1))\n",
    "\n",
    "airportsVisited = [i[0][0] for i in path]\n",
    "print '\\nairports we visit: ', airportsVisited\n",
    "\n",
    "flightsToTake = [(i[1][0],i[1][4]) for i in path[1:]]\n",
    "print 'flights to take: ', flightsToTake\n",
    "\n",
    "points = []\n",
    "for airport in airportsVisited:\n",
    "    points.append(airportLocations[airport])\n",
    "\n",
    "lats = [i[0] for i in points]\n",
    "lngs = [i[1] for i in points]\n",
    "\n",
    "if direct:\n",
    "    plt.plot(lngs, lats,'ob-')\n",
    "else:\n",
    "    plt.plot(lngs, lats,'or-')\n",
    "\n",
    "mplleaflet.show()\n",
    "print 'hours it takes: ', (divmod((finalTime - startTime).total_seconds(), 60)[0])/60\n",
    "\n",
    "\n"
   ]
  },
  {
   "cell_type": "code",
   "execution_count": null,
   "metadata": {},
   "outputs": [],
   "source": []
  }
 ],
 "metadata": {
  "kernelspec": {
   "display_name": "Python 2",
   "language": "python",
   "name": "python2"
  },
  "language_info": {
   "codemirror_mode": {
    "name": "ipython",
    "version": 2
   },
   "file_extension": ".py",
   "mimetype": "text/x-python",
   "name": "python",
   "nbconvert_exporter": "python",
   "pygments_lexer": "ipython2",
   "version": "2.7.10"
  }
 },
 "nbformat": 4,
 "nbformat_minor": 2
}
