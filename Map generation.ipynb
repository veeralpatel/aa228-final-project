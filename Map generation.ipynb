{
 "cells": [
  {
   "cell_type": "code",
   "execution_count": 247,
   "metadata": {},
   "outputs": [],
   "source": [
    "import pandas as pd\n",
    "\n",
    "airports = pd.read_csv('data/airports.csv')"
   ]
  },
  {
   "cell_type": "code",
   "execution_count": 248,
   "metadata": {},
   "outputs": [],
   "source": [
    "airportLocations = {}\n",
    "for index, row in airports.iterrows():\n",
    "    airportLocations[row[\"IATA_CODE\"]] = (row[\"LATITUDE\"], row[\"LONGITUDE\"])"
   ]
  },
  {
   "cell_type": "code",
   "execution_count": 316,
   "metadata": {},
   "outputs": [
    {
     "name": "stdout",
     "output_type": "stream",
     "text": [
      "loading optimal policy pkl\n",
      "done loading optimal policy\n",
      "loading value function pkl\n",
      "done loading value function\n",
      "Value at start state is  -594.487674586\n",
      "\n",
      "\n",
      "s:  ('ORD', datetime.datetime(2015, 1, 11, 8, 30), 0) -594.487674586\n",
      "a:  ('US602', datetime.datetime(2015, 1, 11, 11, 5), 'PHX', datetime.datetime(2015, 1, 11, 13, 38), 216.0)\n",
      "\n",
      "\n",
      "s:  ('PHX', datetime.datetime(2015, 1, 11, 13, 38), 1) -235.273303128\n",
      "a:  ('WN336', datetime.datetime(2015, 1, 11, 14, 10), 'LAS', datetime.datetime(2015, 1, 11, 15, 10), 65.0)\n",
      "\n",
      "\n",
      "s:  ('LAS', datetime.datetime(2015, 1, 11, 15, 10), 2) -105.23818809\n",
      "a:  ('VX1493', datetime.datetime(2015, 1, 11, 15, 33), 'LAX', datetime.datetime(2015, 1, 11, 17, 51), 73.0)\n",
      "\n",
      "\n",
      "s:  ('LAX', datetime.datetime(2015, 1, 11, 17, 51), 3) 0\n",
      "['ORD', 'PHX', 'LAS', 'LAX']\n",
      "[('US602', 216.0), ('WN336', 65.0), ('VX1493', 73.0)]\n"
     ]
    }
   ],
   "source": [
    "import cPickle\n",
    "import datetime\n",
    "import matplotlib.pyplot as plt\n",
    "import mplleaflet\n",
    "\n",
    "origin = 'ORD'\n",
    "destination = 'LAX'\n",
    "direct = False\n",
    "\n",
    "if direct:\n",
    "    policyFile = 'Results/Winter/Direct/' + origin + 'to' + destination + '_direct_policy.pkl'\n",
    "    valueFile = 'Results/Winter/Direct/' + origin + 'to' + destination + '_direct_value.pkl'\n",
    "else:\n",
    "    policyFile = 'Results/Winter/Connected/' + origin + 'to' + destination + '_policy.pkl'\n",
    "    valueFile = 'Results/Winter/Connected/' + origin + 'to' + destination + '_value.pkl'\n",
    "\n",
    "print 'loading optimal policy pkl'\n",
    "optimal_policy = {}\n",
    "with open(policyFile, \"rb\") as input_file:\n",
    "    optimal_policy = cPickle.load(input_file)\n",
    "print 'done loading optimal policy'\n",
    "\n",
    "print 'loading value function pkl'\n",
    "value_function = {}\n",
    "with open(valueFile, \"rb\") as input_file:\n",
    "    value_function = cPickle.load(input_file)\n",
    "print 'done loading value function'\n",
    "\n",
    "state = (origin, datetime.datetime(2015, 1, 11, 8, 30), 0)\n",
    "print 'Value at start state is ', value_function[state]\n",
    "path = [(state, None)]\n",
    "actions = []\n",
    "\n",
    "while True:\n",
    "    print '\\n'\n",
    "    print 's: ', state, value_function[state]\n",
    "    if state[0] == destination:\n",
    "        break\n",
    "    else:\n",
    "        action = optimal_policy[state]\n",
    "        print 'a: ', action\n",
    "        actions.append(action[1])\n",
    "        state = (action[2],action[3],state[2]+1)\n",
    "        path.append((state,action,state[2]+1))\n",
    "\n",
    "airportsVisited = [i[0][0] for i in path]\n",
    "print airportsVisited\n",
    "\n",
    "flightsToTake = [(i[1][0],i[1][4]) for i in path[1:]]\n",
    "print flightsToTake\n",
    "\n",
    "points = []\n",
    "for airport in airportsVisited:\n",
    "    points.append(airportLocations[airport])\n",
    "\n",
    "lats = [i[0] for i in points]\n",
    "lngs = [i[1] for i in points]\n",
    "\n",
    "if direct:\n",
    "    plt.plot(lngs, lats,'ob-')\n",
    "else:\n",
    "    plt.plot(lngs, lats,'or-')\n",
    "\n",
    "# plt.show()\n",
    "for i, label in enumerate(points): \n",
    "   plt.text (lngs[i], lats[i], airportsVisited[i])\n",
    "\n",
    "mplleaflet.show()"
   ]
  },
  {
   "cell_type": "code",
   "execution_count": null,
   "metadata": {},
   "outputs": [],
   "source": []
  }
 ],
 "metadata": {
  "kernelspec": {
   "display_name": "Python 2",
   "language": "python",
   "name": "python2"
  },
  "language_info": {
   "codemirror_mode": {
    "name": "ipython",
    "version": 2
   },
   "file_extension": ".py",
   "mimetype": "text/x-python",
   "name": "python",
   "nbconvert_exporter": "python",
   "pygments_lexer": "ipython2",
   "version": "2.7.10"
  }
 },
 "nbformat": 4,
 "nbformat_minor": 2
}
