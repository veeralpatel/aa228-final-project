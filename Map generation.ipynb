{
 "cells": [
  {
   "cell_type": "code",
   "execution_count": 247,
   "metadata": {},
   "outputs": [],
   "source": [
    "import pandas as pd\n",
    "\n",
    "airports = pd.read_csv('data/airports.csv')"
   ]
  },
  {
   "cell_type": "code",
   "execution_count": 248,
   "metadata": {},
   "outputs": [],
   "source": [
    "airportLocations = {}\n",
    "for index, row in airports.iterrows():\n",
    "    airportLocations[row[\"IATA_CODE\"]] = (row[\"LATITUDE\"], row[\"LONGITUDE\"])"
   ]
  },
  {
   "cell_type": "code",
   "execution_count": 374,
   "metadata": {},
   "outputs": [
    {
     "name": "stdout",
     "output_type": "stream",
     "text": [
      "Value at start state is  -466.948030579\n",
      "\n",
      "\n",
      "s:  ('JFK', datetime.datetime(2015, 1, 11, 8, 30), 0) -466.948030579\n",
      "a:  ('B6583', datetime.datetime(2015, 1, 11, 11, 17), 'MCO', datetime.datetime(2015, 1, 11, 17, 22), 165.0)\n",
      "\n",
      "\n",
      "s:  ('MCO', datetime.datetime(2015, 1, 11, 17, 22), 1) -141.981285479\n",
      "a:  ('WN1527', datetime.datetime(2015, 1, 11, 17, 57), 'ATL', datetime.datetime(2015, 1, 11, 20, 9), 80.0)\n",
      "\n",
      "\n",
      "s:  ('ATL', datetime.datetime(2015, 1, 11, 20, 9), 2) 0\n",
      "\n",
      "airports we visit:  ['JFK', 'MCO', 'ATL']\n",
      "flights to take:  [('B6583', 165.0), ('WN1527', 80.0)]\n",
      "hours it takes:  8.86666666667\n"
     ]
    }
   ],
   "source": [
    "import cPickle\n",
    "import datetime\n",
    "import matplotlib.pyplot as plt\n",
    "import mplleaflet\n",
    "\n",
    "origin = 'JFK'\n",
    "destination = 'ATL'\n",
    "direct = False\n",
    "\n",
    "if direct:\n",
    "    policyFile = 'Results/Winter/Direct/' + origin + 'to' + destination + '_direct_policy.pkl'\n",
    "    valueFile = 'Results/Winter/Direct/' + origin + 'to' + destination + '_direct_value.pkl'\n",
    "else:\n",
    "    policyFile = 'Results/Winter/Connected/' + origin + 'to' + destination + '_policy.pkl'\n",
    "    valueFile = 'Results/Winter/Connected/' + origin + 'to' + destination + '_value.pkl'\n",
    "\n",
    "optimal_policy = {}\n",
    "with open(policyFile, \"rb\") as input_file:\n",
    "    optimal_policy = cPickle.load(input_file)\n",
    "\n",
    "value_function = {}\n",
    "with open(valueFile, \"rb\") as input_file:\n",
    "    value_function = cPickle.load(input_file)\n",
    "\n",
    "state = (origin, datetime.datetime(2015, 1, 11, 8, 30), 0)\n",
    "print 'Value at start state is ', value_function[state]\n",
    "path = [(state, None)]\n",
    "actions = []\n",
    "\n",
    "startTime = optimal_policy[state][1]\n",
    "\n",
    "while True:\n",
    "    print '\\n'\n",
    "    print 's: ', state, value_function[state]\n",
    "    if state[0] == destination:\n",
    "        finalTime = state[1]\n",
    "        break\n",
    "    else:\n",
    "        action = optimal_policy[state]\n",
    "        print 'a: ', action\n",
    "        actions.append(action[1])\n",
    "        state = (action[2],action[3],state[2]+1)\n",
    "        path.append((state,action,state[2]+1))\n",
    "\n",
    "airportsVisited = [i[0][0] for i in path]\n",
    "print '\\nairports we visit: ', airportsVisited\n",
    "\n",
    "flightsToTake = [(i[1][0],i[1][4]) for i in path[1:]]\n",
    "print 'flights to take: ', flightsToTake\n",
    "\n",
    "points = []\n",
    "for airport in airportsVisited:\n",
    "    points.append(airportLocations[airport])\n",
    "\n",
    "lats = [i[0] for i in points]\n",
    "lngs = [i[1] for i in points]\n",
    "\n",
    "if direct:\n",
    "    plt.plot(lngs, lats,'ob-')\n",
    "else:\n",
    "    plt.plot(lngs, lats,'or-')\n",
    "\n",
    "# mplleaflet.show()\n",
    "print 'hours it takes: ', (divmod((finalTime - startTime).total_seconds(), 60)[0])/60\n",
    "\n",
    "\n"
   ]
  },
  {
   "cell_type": "code",
   "execution_count": null,
   "metadata": {},
   "outputs": [],
   "source": []
  }
 ],
 "metadata": {
  "kernelspec": {
   "display_name": "Python 2",
   "language": "python",
   "name": "python2"
  },
  "language_info": {
   "codemirror_mode": {
    "name": "ipython",
    "version": 2
   },
   "file_extension": ".py",
   "mimetype": "text/x-python",
   "name": "python",
   "nbconvert_exporter": "python",
   "pygments_lexer": "ipython2",
   "version": "2.7.10"
  }
 },
 "nbformat": 4,
 "nbformat_minor": 2
}
