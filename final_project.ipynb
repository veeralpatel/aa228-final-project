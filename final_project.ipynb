{
 "cells": [
  {
   "cell_type": "code",
   "execution_count": 3,
   "metadata": {
    "collapsed": false
   },
   "outputs": [],
   "source": [
    "import pandas as pd\n",
    "import warnings\n",
    "from IPython.core.interactiveshell import InteractiveShell\n",
    "InteractiveShell.ast_node_interactivity = \"last_expr\"\n",
    "warnings.filterwarnings(\"ignore\")"
   ]
  },
  {
   "cell_type": "code",
   "execution_count": 5,
   "metadata": {
    "collapsed": false
   },
   "outputs": [
    {
     "data": {
      "text/plain": [
       "ATL      346836\n",
       "ORD      285884\n",
       "DFW      239551\n",
       "DEN      196055\n",
       "LAX      194673\n",
       "SFO      148008\n",
       "PHX      146815\n",
       "IAH      146622\n",
       "LAS      133181\n",
       "MSP      112117\n",
       "MCO      110982\n",
       "SEA      110899\n",
       "DTW      108500\n",
       "BOS      107847\n",
       "EWR      101772\n",
       "CLT      100324\n",
       "LGA       99605\n",
       "SLC       97210\n",
       "JFK       93811\n",
       "BWI       86079\n",
       "MDW       80886\n",
       "DCA       73794\n",
       "FLL       73624\n",
       "SAN       70207\n",
       "MIA       69341\n",
       "PHL       66021\n",
       "TPA       63906\n",
       "DAL       59699\n",
       "HOU       52042\n",
       "BNA       47580\n",
       "          ...  \n",
       "11503         3\n",
       "12177         3\n",
       "15048         3\n",
       "10372         3\n",
       "10918         3\n",
       "12343         3\n",
       "14543         3\n",
       "11980         3\n",
       "11587         3\n",
       "10268         3\n",
       "11013         3\n",
       "11617         3\n",
       "11577         3\n",
       "10739         3\n",
       "14109         3\n",
       "12888         3\n",
       "12016         2\n",
       "11097         2\n",
       "11905         2\n",
       "10333         2\n",
       "10581         2\n",
       "10170         2\n",
       "11503         1\n",
       "14222         1\n",
       "15497         1\n",
       "12265         1\n",
       "13459         1\n",
       "13964         1\n",
       "14025         1\n",
       "13502         1\n",
       "Name: ORIGIN_AIRPORT, dtype: int64"
      ]
     },
     "execution_count": 5,
     "metadata": {},
     "output_type": "execute_result"
    }
   ],
   "source": [
    "flights = pd.read_csv('flights.csv')\n",
    "count_flights = flights['ORIGIN_AIRPORT'].value_counts()\n",
    "count_flights"
   ]
  },
  {
   "cell_type": "code",
   "execution_count": 7,
   "metadata": {
    "collapsed": false
   },
   "outputs": [
    {
     "data": {
      "text/plain": [
       "pandas.core.series.Series"
      ]
     },
     "execution_count": 7,
     "metadata": {},
     "output_type": "execute_result"
    }
   ],
   "source": [
    "count_flights = count_flights.tolist"
   ]
  },
  {
   "cell_type": "code",
   "execution_count": null,
   "metadata": {
    "collapsed": true
   },
   "outputs": [],
   "source": []
  }
 ],
 "metadata": {
  "kernelspec": {
   "display_name": "Python 2",
   "language": "python",
   "name": "python2"
  },
  "language_info": {
   "codemirror_mode": {
    "name": "ipython",
    "version": 2
   },
   "file_extension": ".py",
   "mimetype": "text/x-python",
   "name": "python",
   "nbconvert_exporter": "python",
   "pygments_lexer": "ipython2",
   "version": "2.7.12"
  }
 },
 "nbformat": 4,
 "nbformat_minor": 2
}
